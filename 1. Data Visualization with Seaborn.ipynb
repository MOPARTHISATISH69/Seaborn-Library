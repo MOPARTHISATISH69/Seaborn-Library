{
 "cells": [
  {
   "cell_type": "markdown",
   "metadata": {},
   "source": [
    "Introduction to seaborn package\n",
    "\n",
    "    - Library for making statistical graphics\n",
    "    - Built based on Matplotlib package\n",
    "    - Integrated with Pandas data structure"
   ]
  },
  {
   "cell_type": "markdown",
   "metadata": {},
   "source": [
    "Why we need seaborn when there is matplotlib ?\n",
    "\n",
    "Benefits of seaborn are\n",
    "\n",
    "    - A high level interface for drawing attractive and informative statistical graphics.\n",
    "    - More advanced than matplotlib.\n",
    "    - Can work with default matplotlib parameters.\n",
    "    - It can work with dataframes."
   ]
  },
  {
   "cell_type": "markdown",
   "metadata": {},
   "source": [
    "Important features of seaborn package\n",
    "\n",
    "    - Has built-in themes for styling Matplotlib graphics.\n",
    "    - Fits into and can be for visualizing linear regression models.\n",
    "    - Can be used for visualization of both bivariant and univariant data.\n",
    "    - Can be used for plotting time series data.\n",
    "    - Can be used with NUMPY and PANDAS data structures."
   ]
  },
  {
   "cell_type": "markdown",
   "metadata": {},
   "source": [
    "Important plots in seaborn \n",
    "\n",
    "    - Kernel Plot\n",
    "    - Distribution Plot\n",
    "    - Joint Plot\n",
    "    - Pair Plot\n",
    "    - Faced Histogram\n",
    "    - Heat Map"
   ]
  },
  {
   "cell_type": "markdown",
   "metadata": {},
   "source": []
  }
 ],
 "metadata": {
  "kernelspec": {
   "display_name": "Python 3",
   "language": "python",
   "name": "python3"
  },
  "language_info": {
   "codemirror_mode": {
    "name": "ipython",
    "version": 3
   },
   "file_extension": ".py",
   "mimetype": "text/x-python",
   "name": "python",
   "nbconvert_exporter": "python",
   "pygments_lexer": "ipython3",
   "version": "3.7.6"
  }
 },
 "nbformat": 4,
 "nbformat_minor": 4
}
